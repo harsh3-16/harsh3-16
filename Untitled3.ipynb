{
  "nbformat": 4,
  "nbformat_minor": 0,
  "metadata": {
    "colab": {
      "provenance": [],
      "authorship_tag": "ABX9TyOD8BXo59rq4eHYycm1oTTa",
      "include_colab_link": true
    },
    "kernelspec": {
      "name": "python3",
      "display_name": "Python 3"
    },
    "language_info": {
      "name": "python"
    }
  },
  "cells": [
    {
      "cell_type": "markdown",
      "metadata": {
        "id": "view-in-github",
        "colab_type": "text"
      },
      "source": [
        "<a href=\"https://colab.research.google.com/github/harsh3-16/harsh3-16/blob/main/Untitled3.ipynb\" target=\"_parent\"><img src=\"https://colab.research.google.com/assets/colab-badge.svg\" alt=\"Open In Colab\"/></a>"
      ]
    },
    {
      "cell_type": "code",
      "execution_count": 1,
      "metadata": {
        "id": "jNolAF1OHQgw"
      },
      "outputs": [],
      "source": [
        "\n",
        "import pandas as pd\n",
        "import numpy as np\n",
        "from sklearn.preprocessing import MinMaxScaler\n",
        "from sklearn.metrics import mean_squared_error\n",
        "from tensorflow.keras.models import Sequential\n",
        "from tensorflow.keras.layers import LSTM, Dense\n",
        "import matplotlib.pyplot as plt"
      ]
    },
    {
      "cell_type": "code",
      "source": [
        "# Assuming you have a dataset with a single column representing stock prices\n",
        "# Replace 'your_dataset.csv' with your actual dataset\n",
        "data = pd.read_csv('/content/NIFTY 50_Data1.csv')\n",
        "prices = data['Close'].values.reshape(-1, 1)"
      ],
      "metadata": {
        "id": "Un7af2RbKW9e"
      },
      "execution_count": 2,
      "outputs": []
    },
    {
      "cell_type": "code",
      "source": [
        "# Normalize the data\n",
        "scaler = MinMaxScaler(feature_range=(0, 1))\n",
        "prices_scaled = scaler.fit_transform(prices)"
      ],
      "metadata": {
        "id": "iFhumyaPK3Os"
      },
      "execution_count": 3,
      "outputs": []
    },
    {
      "cell_type": "code",
      "source": [
        "# Function to create sequences for LSTM\n",
        "def create_sequences(data, seq_length):\n",
        "    X, y = [], []\n",
        "    for i in range(len(data) - seq_length):\n",
        "        X.append(data[i:(i + seq_length), 0])\n",
        "        y.append(data[i + seq_length, 0])\n",
        "    return np.array(X), np.array(y)"
      ],
      "metadata": {
        "id": "KEzROlkeLLbP"
      },
      "execution_count": 4,
      "outputs": []
    },
    {
      "cell_type": "code",
      "source": [
        "# Set sequence length and create sequences\n",
        "sequence_length = 10  # Adjust as needed\n",
        "X, y = create_sequences(prices_scaled, sequence_length)"
      ],
      "metadata": {
        "id": "KmQ3t16pLTHZ"
      },
      "execution_count": 5,
      "outputs": []
    },
    {
      "cell_type": "code",
      "source": [
        "# Split the data into training and testing sets\n",
        "train_size = int(len(X) * 0.8)\n",
        "X_train, X_test = X[:train_size], X[train_size:]\n",
        "y_train, y_test = y[:train_size], y[train_size:]"
      ],
      "metadata": {
        "id": "o_1sM_DQLYWt"
      },
      "execution_count": 6,
      "outputs": []
    },
    {
      "cell_type": "code",
      "source": [
        "# Reshape data for LSTM input (batch_size, timesteps, features)\n",
        "X_train = X_train.reshape((X_train.shape[0], X_train.shape[1], 1))\n",
        "X_test = X_test.reshape((X_test.shape[0], X_test.shape[1], 1))"
      ],
      "metadata": {
        "id": "EbECDJKdLcu4"
      },
      "execution_count": 7,
      "outputs": []
    },
    {
      "cell_type": "code",
      "source": [
        "# Build the LSTM model\n",
        "model = Sequential()\n",
        "model.add(LSTM(units=50, return_sequences=True, input_shape=(X_train.shape[1], 1)))\n",
        "model.add(LSTM(units=50))\n",
        "model.add(Dense(units=1))\n",
        "model.compile(optimizer='adam', loss='mean_squared_error')"
      ],
      "metadata": {
        "id": "S3l5CVDRLihm"
      },
      "execution_count": 8,
      "outputs": []
    },
    {
      "cell_type": "code",
      "source": [
        "# Train the model\n",
        "model.fit(X_train, y_train, epochs=75, batch_size=32, validation_data=(X_test, y_test))"
      ],
      "metadata": {
        "colab": {
          "base_uri": "https://localhost:8080/"
        },
        "id": "Cr_jnbf3LnhI",
        "outputId": "c5d9ba6e-f273-4ada-d7c1-e2df4aaf3d56"
      },
      "execution_count": 16,
      "outputs": [
        {
          "output_type": "stream",
          "name": "stdout",
          "text": [
            "Epoch 1/75\n",
            "74/74 [==============================] - 2s 26ms/step - loss: 1.5426e-04 - val_loss: 5.3392e-05\n",
            "Epoch 2/75\n",
            "74/74 [==============================] - 1s 14ms/step - loss: 1.7924e-04 - val_loss: 6.9731e-05\n",
            "Epoch 3/75\n",
            "74/74 [==============================] - 1s 14ms/step - loss: 1.4699e-04 - val_loss: 8.5071e-05\n",
            "Epoch 4/75\n",
            "74/74 [==============================] - 1s 14ms/step - loss: 1.4340e-04 - val_loss: 4.2367e-05\n",
            "Epoch 5/75\n",
            "74/74 [==============================] - 1s 14ms/step - loss: 1.2678e-04 - val_loss: 8.1117e-05\n",
            "Epoch 6/75\n",
            "74/74 [==============================] - 1s 14ms/step - loss: 1.3110e-04 - val_loss: 4.7989e-05\n",
            "Epoch 7/75\n",
            "74/74 [==============================] - 1s 14ms/step - loss: 1.5996e-04 - val_loss: 7.6605e-05\n",
            "Epoch 8/75\n",
            "74/74 [==============================] - 1s 14ms/step - loss: 1.2772e-04 - val_loss: 3.1713e-05\n",
            "Epoch 9/75\n",
            "74/74 [==============================] - 1s 15ms/step - loss: 1.3079e-04 - val_loss: 4.2162e-05\n",
            "Epoch 10/75\n",
            "74/74 [==============================] - 1s 18ms/step - loss: 1.2384e-04 - val_loss: 4.1951e-05\n",
            "Epoch 11/75\n",
            "74/74 [==============================] - 2s 22ms/step - loss: 1.2118e-04 - val_loss: 8.0487e-05\n",
            "Epoch 12/75\n",
            "74/74 [==============================] - 2s 22ms/step - loss: 1.2954e-04 - val_loss: 6.1906e-05\n",
            "Epoch 13/75\n",
            "74/74 [==============================] - 1s 16ms/step - loss: 1.0768e-04 - val_loss: 3.5838e-05\n",
            "Epoch 14/75\n",
            "74/74 [==============================] - 1s 14ms/step - loss: 1.1830e-04 - val_loss: 3.7734e-05\n",
            "Epoch 15/75\n",
            "74/74 [==============================] - 1s 14ms/step - loss: 1.3676e-04 - val_loss: 2.8850e-05\n",
            "Epoch 16/75\n",
            "74/74 [==============================] - 1s 14ms/step - loss: 1.1561e-04 - val_loss: 3.0461e-05\n",
            "Epoch 17/75\n",
            "74/74 [==============================] - 1s 14ms/step - loss: 1.2615e-04 - val_loss: 4.3014e-05\n",
            "Epoch 18/75\n",
            "74/74 [==============================] - 1s 15ms/step - loss: 1.3473e-04 - val_loss: 2.9136e-05\n",
            "Epoch 19/75\n",
            "74/74 [==============================] - 1s 15ms/step - loss: 1.0596e-04 - val_loss: 1.2377e-04\n",
            "Epoch 20/75\n",
            "74/74 [==============================] - 1s 14ms/step - loss: 1.1494e-04 - val_loss: 3.1057e-05\n",
            "Epoch 21/75\n",
            "74/74 [==============================] - 1s 14ms/step - loss: 1.0527e-04 - val_loss: 4.0392e-05\n",
            "Epoch 22/75\n",
            "74/74 [==============================] - 1s 16ms/step - loss: 1.1784e-04 - val_loss: 2.5721e-05\n",
            "Epoch 23/75\n",
            "74/74 [==============================] - 2s 22ms/step - loss: 1.0786e-04 - val_loss: 7.2910e-05\n",
            "Epoch 24/75\n",
            "74/74 [==============================] - 2s 23ms/step - loss: 1.6567e-04 - val_loss: 2.5500e-05\n",
            "Epoch 25/75\n",
            "74/74 [==============================] - 1s 17ms/step - loss: 1.1469e-04 - val_loss: 2.9467e-05\n",
            "Epoch 26/75\n",
            "74/74 [==============================] - 1s 14ms/step - loss: 1.1787e-04 - val_loss: 4.0455e-05\n",
            "Epoch 27/75\n",
            "74/74 [==============================] - 1s 14ms/step - loss: 1.0204e-04 - val_loss: 2.5178e-05\n",
            "Epoch 28/75\n",
            "74/74 [==============================] - 1s 15ms/step - loss: 9.8370e-05 - val_loss: 2.6105e-05\n",
            "Epoch 29/75\n",
            "74/74 [==============================] - 1s 14ms/step - loss: 9.1466e-05 - val_loss: 2.4406e-05\n",
            "Epoch 30/75\n",
            "74/74 [==============================] - 1s 14ms/step - loss: 9.0239e-05 - val_loss: 5.0202e-05\n",
            "Epoch 31/75\n",
            "74/74 [==============================] - 1s 15ms/step - loss: 9.2610e-05 - val_loss: 2.5674e-05\n",
            "Epoch 32/75\n",
            "74/74 [==============================] - 1s 14ms/step - loss: 9.9753e-05 - val_loss: 3.1919e-05\n",
            "Epoch 33/75\n",
            "74/74 [==============================] - 1s 16ms/step - loss: 8.8466e-05 - val_loss: 2.4476e-05\n",
            "Epoch 34/75\n",
            "74/74 [==============================] - 1s 15ms/step - loss: 1.0877e-04 - val_loss: 5.9350e-05\n",
            "Epoch 35/75\n",
            "74/74 [==============================] - 2s 22ms/step - loss: 9.3663e-05 - val_loss: 2.3582e-05\n",
            "Epoch 36/75\n",
            "74/74 [==============================] - 2s 23ms/step - loss: 9.0662e-05 - val_loss: 2.8558e-05\n",
            "Epoch 37/75\n",
            "74/74 [==============================] - 1s 18ms/step - loss: 8.0764e-05 - val_loss: 2.1798e-05\n",
            "Epoch 38/75\n",
            "74/74 [==============================] - 1s 14ms/step - loss: 9.6155e-05 - val_loss: 2.7180e-05\n",
            "Epoch 39/75\n",
            "74/74 [==============================] - 1s 14ms/step - loss: 8.2090e-05 - val_loss: 2.1161e-05\n",
            "Epoch 40/75\n",
            "74/74 [==============================] - 1s 15ms/step - loss: 7.5208e-05 - val_loss: 2.3037e-05\n",
            "Epoch 41/75\n",
            "74/74 [==============================] - 1s 14ms/step - loss: 8.6534e-05 - val_loss: 7.0723e-05\n",
            "Epoch 42/75\n",
            "74/74 [==============================] - 1s 14ms/step - loss: 8.3083e-05 - val_loss: 2.3207e-05\n",
            "Epoch 43/75\n",
            "74/74 [==============================] - 1s 14ms/step - loss: 9.2942e-05 - val_loss: 3.8519e-05\n",
            "Epoch 44/75\n",
            "74/74 [==============================] - 1s 14ms/step - loss: 1.1680e-04 - val_loss: 4.2147e-05\n",
            "Epoch 45/75\n",
            "74/74 [==============================] - 1s 14ms/step - loss: 8.1408e-05 - val_loss: 7.0054e-05\n",
            "Epoch 46/75\n",
            "74/74 [==============================] - 1s 17ms/step - loss: 7.4689e-05 - val_loss: 2.0239e-05\n",
            "Epoch 47/75\n",
            "74/74 [==============================] - 2s 23ms/step - loss: 7.9546e-05 - val_loss: 3.6552e-05\n",
            "Epoch 48/75\n",
            "74/74 [==============================] - 2s 22ms/step - loss: 8.0402e-05 - val_loss: 2.3688e-05\n",
            "Epoch 49/75\n",
            "74/74 [==============================] - 1s 18ms/step - loss: 7.4047e-05 - val_loss: 4.4597e-05\n",
            "Epoch 50/75\n",
            "74/74 [==============================] - 1s 15ms/step - loss: 7.5414e-05 - val_loss: 2.4947e-05\n",
            "Epoch 51/75\n",
            "74/74 [==============================] - 1s 15ms/step - loss: 7.9814e-05 - val_loss: 3.0023e-05\n",
            "Epoch 52/75\n",
            "74/74 [==============================] - 1s 14ms/step - loss: 7.3947e-05 - val_loss: 9.9179e-05\n",
            "Epoch 53/75\n",
            "74/74 [==============================] - 1s 15ms/step - loss: 8.0388e-05 - val_loss: 4.0340e-05\n",
            "Epoch 54/75\n",
            "74/74 [==============================] - 1s 15ms/step - loss: 7.2978e-05 - val_loss: 3.8133e-05\n",
            "Epoch 55/75\n",
            "74/74 [==============================] - 1s 14ms/step - loss: 7.3277e-05 - val_loss: 4.4864e-05\n",
            "Epoch 56/75\n",
            "74/74 [==============================] - 1s 15ms/step - loss: 7.7944e-05 - val_loss: 2.0223e-05\n",
            "Epoch 57/75\n",
            "74/74 [==============================] - 1s 15ms/step - loss: 7.1025e-05 - val_loss: 1.8148e-05\n",
            "Epoch 58/75\n",
            "74/74 [==============================] - 1s 19ms/step - loss: 8.2990e-05 - val_loss: 1.9195e-05\n",
            "Epoch 59/75\n",
            "74/74 [==============================] - 2s 22ms/step - loss: 7.9105e-05 - val_loss: 1.9550e-05\n",
            "Epoch 60/75\n",
            "74/74 [==============================] - 2s 21ms/step - loss: 7.6964e-05 - val_loss: 4.2933e-05\n",
            "Epoch 61/75\n",
            "74/74 [==============================] - 1s 16ms/step - loss: 8.0388e-05 - val_loss: 9.3942e-05\n",
            "Epoch 62/75\n",
            "74/74 [==============================] - 1s 14ms/step - loss: 7.3999e-05 - val_loss: 1.9314e-05\n",
            "Epoch 63/75\n",
            "74/74 [==============================] - 1s 15ms/step - loss: 6.7452e-05 - val_loss: 3.1521e-05\n",
            "Epoch 64/75\n",
            "74/74 [==============================] - 1s 14ms/step - loss: 6.9313e-05 - val_loss: 4.6139e-05\n",
            "Epoch 65/75\n",
            "74/74 [==============================] - 1s 15ms/step - loss: 6.7690e-05 - val_loss: 3.3750e-05\n",
            "Epoch 66/75\n",
            "74/74 [==============================] - 1s 14ms/step - loss: 7.2321e-05 - val_loss: 3.3957e-05\n",
            "Epoch 67/75\n",
            "74/74 [==============================] - 1s 16ms/step - loss: 8.3076e-05 - val_loss: 3.3163e-05\n",
            "Epoch 68/75\n",
            "74/74 [==============================] - 1s 14ms/step - loss: 7.9943e-05 - val_loss: 2.8290e-05\n",
            "Epoch 69/75\n",
            "74/74 [==============================] - 1s 14ms/step - loss: 8.5790e-05 - val_loss: 2.0653e-05\n",
            "Epoch 70/75\n",
            "74/74 [==============================] - 1s 19ms/step - loss: 7.6278e-05 - val_loss: 3.8261e-05\n",
            "Epoch 71/75\n",
            "74/74 [==============================] - 2s 22ms/step - loss: 7.4990e-05 - val_loss: 3.1119e-05\n",
            "Epoch 72/75\n",
            "74/74 [==============================] - 2s 22ms/step - loss: 7.0885e-05 - val_loss: 3.0379e-05\n",
            "Epoch 73/75\n",
            "74/74 [==============================] - 1s 16ms/step - loss: 7.6849e-05 - val_loss: 1.9388e-05\n",
            "Epoch 74/75\n",
            "74/74 [==============================] - 1s 14ms/step - loss: 8.6555e-05 - val_loss: 2.2918e-05\n",
            "Epoch 75/75\n",
            "74/74 [==============================] - 1s 14ms/step - loss: 7.4343e-05 - val_loss: 1.6925e-05\n"
          ]
        },
        {
          "output_type": "execute_result",
          "data": {
            "text/plain": [
              "<keras.src.callbacks.History at 0x7a85422a5210>"
            ]
          },
          "metadata": {},
          "execution_count": 16
        }
      ]
    },
    {
      "cell_type": "code",
      "source": [
        "# Make predictions on the test set\n",
        "predicted_stock_prices = model.predict(X_test)\n",
        "predicted_stock_prices = scaler.inverse_transform(predicted_stock_prices)  # Inverse transform to get original scale"
      ],
      "metadata": {
        "colab": {
          "base_uri": "https://localhost:8080/"
        },
        "id": "v3Ur2pafMA55",
        "outputId": "ba5a5283-7b3f-4ab5-cef4-04d7b9058539"
      },
      "execution_count": 17,
      "outputs": [
        {
          "output_type": "stream",
          "name": "stdout",
          "text": [
            "19/19 [==============================] - 0s 5ms/step\n"
          ]
        }
      ]
    },
    {
      "cell_type": "code",
      "source": [
        "# Calculate Mean Squared Error\n",
        "mse = mean_squared_error(data['Close'].values[-len(y_test):], predicted_stock_prices)\n",
        "print(f\"Mean Squared Error: {mse}\")"
      ],
      "metadata": {
        "colab": {
          "base_uri": "https://localhost:8080/"
        },
        "id": "Jr7QOosWMGW_",
        "outputId": "cf6f1ae0-88a5-45eb-b778-6af98516140b"
      },
      "execution_count": 18,
      "outputs": [
        {
          "output_type": "stream",
          "name": "stdout",
          "text": [
            "Mean Squared Error: 4095.3881641001763\n"
          ]
        }
      ]
    },
    {
      "cell_type": "code",
      "source": [
        "# Plot the results\n",
        "plt.plot(data['Close'].values[-len(y_test):], label='Actual Prices')\n",
        "plt.plot(predicted_stock_prices, label='Predicted Prices')\n",
        "plt.legend()\n",
        "plt.show()"
      ],
      "metadata": {
        "colab": {
          "base_uri": "https://localhost:8080/",
          "height": 218
        },
        "id": "8LIGsx0lMSeK",
        "outputId": "b0477314-835b-4ccf-aaf0-68dd01127178"
      },
      "execution_count": 19,
      "outputs": [
        {
          "output_type": "display_data",
          "data": {
            "text/plain": [
              "<Figure size 640x480 with 1 Axes>"
            ],
            "image/png": "[encoded data removed]"
          },
          "metadata": {}
        }
      ]
    }
  ]
}